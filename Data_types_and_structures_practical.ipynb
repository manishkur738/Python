{
  "nbformat": 4,
  "nbformat_minor": 0,
  "metadata": {
    "colab": {
      "provenance": []
    },
    "kernelspec": {
      "name": "python3",
      "display_name": "Python 3"
    },
    "language_info": {
      "name": "python"
    }
  },
  "cells": [
    {
      "cell_type": "markdown",
      "source": [
        "**1. Write a code to create a string with your name and print it ?**"
      ],
      "metadata": {
        "id": "cQQgaVTTaggu"
      }
    },
    {
      "cell_type": "code",
      "source": [
        "name = \"manish Kumar\"\n",
        "print(name)"
      ],
      "metadata": {
        "colab": {
          "base_uri": "https://localhost:8080/"
        },
        "id": "QzgMSuUZal_E",
        "outputId": "ade5f22e-6d47-49f0-fe82-8a86cd689981"
      },
      "execution_count": 1,
      "outputs": [
        {
          "output_type": "stream",
          "name": "stdout",
          "text": [
            "manish Kumar\n"
          ]
        }
      ]
    },
    {
      "cell_type": "markdown",
      "source": [
        "**2. Write a code to find the length of the string \"Hello World\" ?**"
      ],
      "metadata": {
        "id": "nlS5LGu1ay0V"
      }
    },
    {
      "cell_type": "code",
      "source": [
        "a = \"Hello World\"\n",
        "len(a)"
      ],
      "metadata": {
        "colab": {
          "base_uri": "https://localhost:8080/"
        },
        "id": "Mhkl85yyawQu",
        "outputId": "1bea1297-6197-4ce5-e728-2913ce49105e"
      },
      "execution_count": 2,
      "outputs": [
        {
          "output_type": "execute_result",
          "data": {
            "text/plain": [
              "11"
            ]
          },
          "metadata": {},
          "execution_count": 2
        }
      ]
    },
    {
      "cell_type": "markdown",
      "source": [
        "**3. Write a code to slice the first 3 characters from the string \"Python Programming\" ?**"
      ],
      "metadata": {
        "id": "Q1WpmGGObCMi"
      }
    },
    {
      "cell_type": "code",
      "source": [
        "a = \"Python Programming\"\n",
        "slice = a[0:3]\n",
        "print(slice)"
      ],
      "metadata": {
        "colab": {
          "base_uri": "https://localhost:8080/"
        },
        "id": "2R74ksxJa_h1",
        "outputId": "daa45aa6-081b-422e-fe4b-a179060cd0ec"
      },
      "execution_count": 3,
      "outputs": [
        {
          "output_type": "stream",
          "name": "stdout",
          "text": [
            "Pyt\n"
          ]
        }
      ]
    },
    {
      "cell_type": "markdown",
      "source": [
        "**4. Write a code to convert the string \"hello\" to uppercase ?**"
      ],
      "metadata": {
        "id": "PjYxJoq5bgrv"
      }
    },
    {
      "cell_type": "code",
      "source": [
        "a = \"hello\"\n",
        "a.upper()"
      ],
      "metadata": {
        "colab": {
          "base_uri": "https://localhost:8080/",
          "height": 35
        },
        "id": "HToKYjQfbeG7",
        "outputId": "6e050ccc-27b5-4574-f5f3-96b0c24c99a2"
      },
      "execution_count": 4,
      "outputs": [
        {
          "output_type": "execute_result",
          "data": {
            "text/plain": [
              "'HELLO'"
            ],
            "application/vnd.google.colaboratory.intrinsic+json": {
              "type": "string"
            }
          },
          "metadata": {},
          "execution_count": 4
        }
      ]
    },
    {
      "cell_type": "markdown",
      "source": [
        "**5. Write a code to replace the word \"apple\" with \"orange\" in the string \"I like apple\" ?**"
      ],
      "metadata": {
        "id": "Gnlj3Lidbu99"
      }
    },
    {
      "cell_type": "code",
      "source": [
        "a = \"i like apple\"\n",
        "a.replace(\"apple\",\"orange\")"
      ],
      "metadata": {
        "colab": {
          "base_uri": "https://localhost:8080/",
          "height": 35
        },
        "id": "AVia8qA5bqU4",
        "outputId": "8717292d-cd3e-49de-ee82-fc548e25b784"
      },
      "execution_count": 5,
      "outputs": [
        {
          "output_type": "execute_result",
          "data": {
            "text/plain": [
              "'i like orange'"
            ],
            "application/vnd.google.colaboratory.intrinsic+json": {
              "type": "string"
            }
          },
          "metadata": {},
          "execution_count": 5
        }
      ]
    },
    {
      "cell_type": "markdown",
      "source": [
        "**6. Write a code to create a list with numbers 1 to 5 and print it ?**"
      ],
      "metadata": {
        "id": "ASwLQdYQb-2D"
      }
    },
    {
      "cell_type": "code",
      "source": [
        "a = [1,2,3,4,5]\n",
        "print(a)\n",
        "type(a)"
      ],
      "metadata": {
        "colab": {
          "base_uri": "https://localhost:8080/"
        },
        "id": "fENnYXWTb7CQ",
        "outputId": "26baf81e-3bfb-4a96-800c-8c7770fec307"
      },
      "execution_count": 8,
      "outputs": [
        {
          "output_type": "stream",
          "name": "stdout",
          "text": [
            "[1, 2, 3, 4, 5]\n"
          ]
        },
        {
          "output_type": "execute_result",
          "data": {
            "text/plain": [
              "list"
            ]
          },
          "metadata": {},
          "execution_count": 8
        }
      ]
    },
    {
      "cell_type": "markdown",
      "source": [
        "**7. Write a code to append the number 10 to the list [1, 2, 3, 4] ?**"
      ],
      "metadata": {
        "id": "jy36z335ceNA"
      }
    },
    {
      "cell_type": "code",
      "source": [
        "a = [1,2,3,4]"
      ],
      "metadata": {
        "id": "or_qJCCkcHbU"
      },
      "execution_count": 12,
      "outputs": []
    },
    {
      "cell_type": "code",
      "source": [
        "a"
      ],
      "metadata": {
        "colab": {
          "base_uri": "https://localhost:8080/"
        },
        "id": "-KBnZdZ5cmww",
        "outputId": "7e0789f0-1037-49e9-b5b1-3843364b9632"
      },
      "execution_count": 13,
      "outputs": [
        {
          "output_type": "execute_result",
          "data": {
            "text/plain": [
              "[1, 2, 3, 4]"
            ]
          },
          "metadata": {},
          "execution_count": 13
        }
      ]
    },
    {
      "cell_type": "code",
      "source": [
        "a.append(10)"
      ],
      "metadata": {
        "id": "5ws6ZrVYcn1X"
      },
      "execution_count": 14,
      "outputs": []
    },
    {
      "cell_type": "code",
      "source": [
        "a"
      ],
      "metadata": {
        "colab": {
          "base_uri": "https://localhost:8080/"
        },
        "id": "Onw56DlXct9-",
        "outputId": "6782ed1c-455f-4826-fea4-f0b952734e14"
      },
      "execution_count": 15,
      "outputs": [
        {
          "output_type": "execute_result",
          "data": {
            "text/plain": [
              "[1, 2, 3, 4, 10]"
            ]
          },
          "metadata": {},
          "execution_count": 15
        }
      ]
    },
    {
      "cell_type": "markdown",
      "source": [
        "**8. Write a code to remove the number 3 from the list [1, 2, 3, 4, 5] ?**"
      ],
      "metadata": {
        "id": "LMrguQfocxD-"
      }
    },
    {
      "cell_type": "code",
      "source": [
        "a = [1,2,3,4,5]"
      ],
      "metadata": {
        "id": "-VUF87Bhcu08"
      },
      "execution_count": 16,
      "outputs": []
    },
    {
      "cell_type": "code",
      "source": [
        "a.remove(3)"
      ],
      "metadata": {
        "id": "lerNbniHc2if"
      },
      "execution_count": 17,
      "outputs": []
    },
    {
      "cell_type": "code",
      "source": [
        "a"
      ],
      "metadata": {
        "colab": {
          "base_uri": "https://localhost:8080/"
        },
        "id": "iiSs6uRbc5fb",
        "outputId": "80c78d9c-e3fa-4116-b3b0-b037134400b3"
      },
      "execution_count": 18,
      "outputs": [
        {
          "output_type": "execute_result",
          "data": {
            "text/plain": [
              "[1, 2, 4, 5]"
            ]
          },
          "metadata": {},
          "execution_count": 18
        }
      ]
    },
    {
      "cell_type": "markdown",
      "source": [
        "**9. Write a code to access the second element in the list ['a', 'b', 'c', 'd'] ?**"
      ],
      "metadata": {
        "id": "1pgqatT5c72L"
      }
    },
    {
      "cell_type": "code",
      "source": [
        "list = ['a','b','c','d']"
      ],
      "metadata": {
        "id": "s6DaFadyc6DD"
      },
      "execution_count": 19,
      "outputs": []
    },
    {
      "cell_type": "code",
      "source": [
        "list[1]"
      ],
      "metadata": {
        "colab": {
          "base_uri": "https://localhost:8080/",
          "height": 35
        },
        "id": "Ob1MjweEdJhJ",
        "outputId": "5294becf-983a-4a42-c545-b1ce84059803"
      },
      "execution_count": 20,
      "outputs": [
        {
          "output_type": "execute_result",
          "data": {
            "text/plain": [
              "'b'"
            ],
            "application/vnd.google.colaboratory.intrinsic+json": {
              "type": "string"
            }
          },
          "metadata": {},
          "execution_count": 20
        }
      ]
    },
    {
      "cell_type": "markdown",
      "source": [
        "**10. Write a code to reverse the list [10, 20, 30, 40, 50] ?**"
      ],
      "metadata": {
        "id": "AN9HH4LHdTgo"
      }
    },
    {
      "cell_type": "code",
      "source": [
        "a= [10,20,30,40,50]"
      ],
      "metadata": {
        "id": "esi4_KSQdN-6"
      },
      "execution_count": 21,
      "outputs": []
    },
    {
      "cell_type": "code",
      "source": [
        "a.reverse()"
      ],
      "metadata": {
        "id": "QyvwTMGtdZ5g"
      },
      "execution_count": 22,
      "outputs": []
    },
    {
      "cell_type": "code",
      "source": [
        "a"
      ],
      "metadata": {
        "colab": {
          "base_uri": "https://localhost:8080/"
        },
        "id": "I_hXiDUddbw3",
        "outputId": "a391c974-0b33-4ad1-baad-5e7326a2eded"
      },
      "execution_count": 23,
      "outputs": [
        {
          "output_type": "execute_result",
          "data": {
            "text/plain": [
              "[50, 40, 30, 20, 10]"
            ]
          },
          "metadata": {},
          "execution_count": 23
        }
      ]
    },
    {
      "cell_type": "code",
      "source": [
        "b = [10,20,30,40,50]"
      ],
      "metadata": {
        "id": "KG2Br504dcK3"
      },
      "execution_count": 25,
      "outputs": []
    },
    {
      "cell_type": "code",
      "source": [
        "b[::-1]"
      ],
      "metadata": {
        "colab": {
          "base_uri": "https://localhost:8080/"
        },
        "id": "PkghlSj1dllM",
        "outputId": "67d20d4a-d959-49f0-d670-49f3ebde10ef"
      },
      "execution_count": 27,
      "outputs": [
        {
          "output_type": "execute_result",
          "data": {
            "text/plain": [
              "[50, 40, 30, 20, 10]"
            ]
          },
          "metadata": {},
          "execution_count": 27
        }
      ]
    },
    {
      "cell_type": "markdown",
      "source": [
        "**11. Write a code to create a tuple with the elements 100, 200, 300 and print it ?**"
      ],
      "metadata": {
        "id": "FF1QhtaAdud-"
      }
    },
    {
      "cell_type": "code",
      "source": [
        "T1= (100,200,300)"
      ],
      "metadata": {
        "id": "m3821mLRdqC8"
      },
      "execution_count": 28,
      "outputs": []
    },
    {
      "cell_type": "code",
      "source": [
        "print(T1)"
      ],
      "metadata": {
        "colab": {
          "base_uri": "https://localhost:8080/"
        },
        "id": "96bNnmzfd5tT",
        "outputId": "3fdd998e-8587-4af7-d783-9b48c07aab6c"
      },
      "execution_count": 29,
      "outputs": [
        {
          "output_type": "stream",
          "name": "stdout",
          "text": [
            "(100, 200, 300)\n"
          ]
        }
      ]
    },
    {
      "cell_type": "markdown",
      "source": [
        "**12. Write a code to access the second-to-last element of the tuple ('red', 'green', 'blue', 'yellow') ?**"
      ],
      "metadata": {
        "id": "LdUCxKipd_I9"
      }
    },
    {
      "cell_type": "code",
      "source": [
        "a = ['red','green','blue','yellow']"
      ],
      "metadata": {
        "id": "uqmrKGoPd9A0"
      },
      "execution_count": 30,
      "outputs": []
    },
    {
      "cell_type": "code",
      "source": [
        "a[-1][-2]"
      ],
      "metadata": {
        "colab": {
          "base_uri": "https://localhost:8080/",
          "height": 35
        },
        "id": "COYM9xvjeLy6",
        "outputId": "f4184616-1027-4c0a-a37b-6c136666cfc5"
      },
      "execution_count": 31,
      "outputs": [
        {
          "output_type": "execute_result",
          "data": {
            "text/plain": [
              "'o'"
            ],
            "application/vnd.google.colaboratory.intrinsic+json": {
              "type": "string"
            }
          },
          "metadata": {},
          "execution_count": 31
        }
      ]
    },
    {
      "cell_type": "code",
      "source": [
        "my_tuple = ('red', 'green', 'blue', 'yellow')\n",
        "print(my_tuple[-2])"
      ],
      "metadata": {
        "colab": {
          "base_uri": "https://localhost:8080/"
        },
        "id": "kHk-jFAgeVyH",
        "outputId": "9a8bfcec-7454-4b13-a9ef-d53880bed8e9"
      },
      "execution_count": 32,
      "outputs": [
        {
          "output_type": "stream",
          "name": "stdout",
          "text": [
            "blue\n"
          ]
        }
      ]
    },
    {
      "cell_type": "markdown",
      "source": [
        "**13. Write a code to find the minimum number in the tuple (10, 20, 5, 15) ?**"
      ],
      "metadata": {
        "id": "BpdpOLxMeiaN"
      }
    },
    {
      "cell_type": "code",
      "source": [
        "a = (10,20,5,15)\n",
        "min(a)"
      ],
      "metadata": {
        "colab": {
          "base_uri": "https://localhost:8080/"
        },
        "id": "OCK4k0yfee-s",
        "outputId": "85e6f6f1-0aeb-4a0b-c839-64d5c3edcc30"
      },
      "execution_count": 34,
      "outputs": [
        {
          "output_type": "execute_result",
          "data": {
            "text/plain": [
              "5"
            ]
          },
          "metadata": {},
          "execution_count": 34
        }
      ]
    },
    {
      "cell_type": "markdown",
      "source": [
        "**14.  Write a code to find the index of the element \"cat\" in the tuple ('dog', 'cat', 'rabbit') ?**"
      ],
      "metadata": {
        "id": "n6KjCBGtevpD"
      }
    },
    {
      "cell_type": "code",
      "source": [
        "a = (\"dog\",\"cat\",\"rabbit\")\n",
        "a.index(\"cat\")"
      ],
      "metadata": {
        "colab": {
          "base_uri": "https://localhost:8080/"
        },
        "id": "rJOOQLz_eq_X",
        "outputId": "cfe9b2db-4d04-4a12-be55-9c4556f31ae7"
      },
      "execution_count": 36,
      "outputs": [
        {
          "output_type": "execute_result",
          "data": {
            "text/plain": [
              "1"
            ]
          },
          "metadata": {},
          "execution_count": 36
        }
      ]
    },
    {
      "cell_type": "markdown",
      "source": [
        "**15. Write a code to create a tuple containing three different fruits and check if \"kiwi\" is in it ?**"
      ],
      "metadata": {
        "id": "MqSZCCe2fDE7"
      }
    },
    {
      "cell_type": "code",
      "source": [
        "fruits = (\"apple\",\"kiwi\", \"pinapple\",\"banana\")\n",
        "print(\"kiwi\" in fruits)"
      ],
      "metadata": {
        "colab": {
          "base_uri": "https://localhost:8080/"
        },
        "id": "Ij56uKQoe4NE",
        "outputId": "4136af9f-030c-4169-c44d-fe5e489a9809"
      },
      "execution_count": 38,
      "outputs": [
        {
          "output_type": "stream",
          "name": "stdout",
          "text": [
            "True\n"
          ]
        }
      ]
    },
    {
      "cell_type": "markdown",
      "source": [
        "**16. Write a code to create a set with the elements 'a', 'b', 'c' and print it ?**"
      ],
      "metadata": {
        "id": "8SNpbW9tfXmI"
      }
    },
    {
      "cell_type": "code",
      "source": [
        "set = {'a','b','c'}\n",
        "print(set)"
      ],
      "metadata": {
        "colab": {
          "base_uri": "https://localhost:8080/"
        },
        "id": "0gy5BNGHfQjf",
        "outputId": "58b1d54e-a164-4e85-adfb-160f9f890b6e"
      },
      "execution_count": 41,
      "outputs": [
        {
          "output_type": "stream",
          "name": "stdout",
          "text": [
            "{'a', 'c', 'b'}\n"
          ]
        }
      ]
    },
    {
      "cell_type": "markdown",
      "source": [
        "**17. Write a code to clear all elements from the set {1, 2, 3, 4, 5} ?**"
      ],
      "metadata": {
        "id": "4n99MjHJfnl0"
      }
    },
    {
      "cell_type": "code",
      "source": [
        "a = {1,2,3,4,5}"
      ],
      "metadata": {
        "id": "8gD7ZwJCfgls"
      },
      "execution_count": 46,
      "outputs": []
    },
    {
      "cell_type": "code",
      "source": [
        "a.clear()\n",
        "print(a)"
      ],
      "metadata": {
        "colab": {
          "base_uri": "https://localhost:8080/"
        },
        "id": "83UF8brZf0dY",
        "outputId": "fae3c91c-9ab7-4c9c-9a25-cadd703914ec"
      },
      "execution_count": 47,
      "outputs": [
        {
          "output_type": "stream",
          "name": "stdout",
          "text": [
            "set()\n"
          ]
        }
      ]
    },
    {
      "cell_type": "markdown",
      "source": [
        "**18. Write a code to remove the element 4 from the set {1, 2, 3, 4} ?**"
      ],
      "metadata": {
        "id": "xToZN8IWgHUx"
      }
    },
    {
      "cell_type": "code",
      "source": [
        "a= {1,2,3,4}"
      ],
      "metadata": {
        "id": "pdyPyS3Zf99F"
      },
      "execution_count": 48,
      "outputs": []
    },
    {
      "cell_type": "code",
      "source": [
        "a.remove(4)\n",
        "print(a)"
      ],
      "metadata": {
        "colab": {
          "base_uri": "https://localhost:8080/"
        },
        "id": "rC-WwexQgMSD",
        "outputId": "9bcf7d50-4e63-4650-ac51-93191e2485af"
      },
      "execution_count": 49,
      "outputs": [
        {
          "output_type": "stream",
          "name": "stdout",
          "text": [
            "{1, 2, 3}\n"
          ]
        }
      ]
    },
    {
      "cell_type": "markdown",
      "source": [
        "**19. Write a code to find the union of two sets {1, 2, 3} and {3, 4, 5}?**"
      ],
      "metadata": {
        "id": "BcUbAsw0gTar"
      }
    },
    {
      "cell_type": "code",
      "source": [
        "a= {1,2,3}\n",
        "b= {3,4,5}"
      ],
      "metadata": {
        "id": "lJ4j-wpKgQJc"
      },
      "execution_count": 50,
      "outputs": []
    },
    {
      "cell_type": "code",
      "source": [
        "union_set = a | b\n",
        "print(union_set)"
      ],
      "metadata": {
        "colab": {
          "base_uri": "https://localhost:8080/"
        },
        "id": "uBVM7S1vgaaY",
        "outputId": "a3558703-4242-4e68-da5a-a82bbe9f41ed"
      },
      "execution_count": 52,
      "outputs": [
        {
          "output_type": "stream",
          "name": "stdout",
          "text": [
            "{1, 2, 3, 4, 5}\n"
          ]
        }
      ]
    },
    {
      "cell_type": "markdown",
      "source": [
        "**20. Write a code to find the intersection of two sets {1, 2, 3} and {2, 3, 4}?**"
      ],
      "metadata": {
        "id": "L8t4QZgQgs14"
      }
    },
    {
      "cell_type": "code",
      "source": [
        "a= {1,2,3}\n",
        "b= {2,3,4}"
      ],
      "metadata": {
        "id": "DoFA4PFRgjJk"
      },
      "execution_count": 53,
      "outputs": []
    },
    {
      "cell_type": "code",
      "source": [
        "intersection_set = a & b\n",
        "print(intersection_set)"
      ],
      "metadata": {
        "colab": {
          "base_uri": "https://localhost:8080/"
        },
        "id": "HXhmS0fwg0Cw",
        "outputId": "9a6f0b27-32d9-4e6f-b0f9-836b07e7b587"
      },
      "execution_count": 54,
      "outputs": [
        {
          "output_type": "stream",
          "name": "stdout",
          "text": [
            "{2, 3}\n"
          ]
        }
      ]
    },
    {
      "cell_type": "markdown",
      "source": [
        "**21. Write a code to create a dictionary with the keys \"name\", \"age\", and \"city\", and print it ?**"
      ],
      "metadata": {
        "id": "Llyc4BX9g_hy"
      }
    },
    {
      "cell_type": "code",
      "source": [
        "a = {\"name\":\"manish\", \"age\": 20, \"city\":\"delhi\"}"
      ],
      "metadata": {
        "id": "Kcg7wqnug7eB"
      },
      "execution_count": 55,
      "outputs": []
    },
    {
      "cell_type": "code",
      "source": [
        "print(a)"
      ],
      "metadata": {
        "colab": {
          "base_uri": "https://localhost:8080/"
        },
        "id": "PWPoRi1ehMMG",
        "outputId": "eab65a5d-6bc6-4646-97e5-365b28644f9b"
      },
      "execution_count": 56,
      "outputs": [
        {
          "output_type": "stream",
          "name": "stdout",
          "text": [
            "{'name': 'manish', 'age': 20, 'city': 'delhi'}\n"
          ]
        }
      ]
    },
    {
      "cell_type": "markdown",
      "source": [
        "**22. Write a code to add a new key-value pair \"country\": \"USA\" to the dictionary {'name': 'John', 'age': 25} ?**"
      ],
      "metadata": {
        "id": "dBjLQaMVhTAk"
      }
    },
    {
      "cell_type": "code",
      "source": [
        "a = {\"name\":\"John\",\"age\":25}"
      ],
      "metadata": {
        "id": "ep_Hc-EWhQqR"
      },
      "execution_count": 57,
      "outputs": []
    },
    {
      "cell_type": "code",
      "source": [
        "a[\"country\"] = \"USA\""
      ],
      "metadata": {
        "id": "_ESuoUNwhePO"
      },
      "execution_count": 60,
      "outputs": []
    },
    {
      "cell_type": "code",
      "source": [
        "a"
      ],
      "metadata": {
        "colab": {
          "base_uri": "https://localhost:8080/"
        },
        "id": "QUtBmStwhlfh",
        "outputId": "149dc24b-ab7d-4cde-e9bd-8ee513481258"
      },
      "execution_count": 61,
      "outputs": [
        {
          "output_type": "execute_result",
          "data": {
            "text/plain": [
              "{'name': 'John', 'age': 25, 'country': 'USA'}"
            ]
          },
          "metadata": {},
          "execution_count": 61
        }
      ]
    },
    {
      "cell_type": "markdown",
      "source": [
        "**23. Write a code to access the value associated with the key \"name\" in the dictionary {'name': 'Alice', 'age': 30} ?**"
      ],
      "metadata": {
        "id": "aAUTTWkdh4iV"
      }
    },
    {
      "cell_type": "code",
      "source": [
        "dic = {\"name\":\"Alice\", \"age\": 30}"
      ],
      "metadata": {
        "id": "n0iNvBLbh2VE"
      },
      "execution_count": 71,
      "outputs": []
    },
    {
      "cell_type": "code",
      "source": [
        "print(dic[\"name\"])"
      ],
      "metadata": {
        "colab": {
          "base_uri": "https://localhost:8080/"
        },
        "id": "k85C6rMviD7y",
        "outputId": "018bf7ff-59b0-4691-ce02-ab38ff019f5f"
      },
      "execution_count": 73,
      "outputs": [
        {
          "output_type": "stream",
          "name": "stdout",
          "text": [
            "Alice\n"
          ]
        }
      ]
    },
    {
      "cell_type": "markdown",
      "source": [
        "**24. Write a code to remove the key \"age\" from the dictionary {'name': 'Bob', 'age': 22, 'city': 'New York'} ?**"
      ],
      "metadata": {
        "id": "jS2drMYxibN7"
      }
    },
    {
      "cell_type": "code",
      "source": [
        "a = {'name': 'Bob', 'age': 22, 'city': 'New York'}"
      ],
      "metadata": {
        "id": "HDwQgJCEiHQR"
      },
      "execution_count": 81,
      "outputs": []
    },
    {
      "cell_type": "code",
      "source": [
        "a.pop(\"age\")"
      ],
      "metadata": {
        "colab": {
          "base_uri": "https://localhost:8080/"
        },
        "id": "GJvGKNkKiiAk",
        "outputId": "8c20031e-b3fe-41e3-f2dc-00f647028a1d"
      },
      "execution_count": 82,
      "outputs": [
        {
          "output_type": "execute_result",
          "data": {
            "text/plain": [
              "22"
            ]
          },
          "metadata": {},
          "execution_count": 82
        }
      ]
    },
    {
      "cell_type": "code",
      "source": [
        "a"
      ],
      "metadata": {
        "colab": {
          "base_uri": "https://localhost:8080/"
        },
        "id": "LIDcTbzBisVn",
        "outputId": "d5f3d22d-305b-4105-ded8-744c3dfa655f"
      },
      "execution_count": 83,
      "outputs": [
        {
          "output_type": "execute_result",
          "data": {
            "text/plain": [
              "{'name': 'Bob', 'city': 'New York'}"
            ]
          },
          "metadata": {},
          "execution_count": 83
        }
      ]
    },
    {
      "cell_type": "markdown",
      "source": [
        "**25. Write a code to check if the key \"city\" exists in the dictionary {'name': 'Alice', 'city': 'Paris'} ?**"
      ],
      "metadata": {
        "id": "lNwPvdZXi_3m"
      }
    },
    {
      "cell_type": "code",
      "source": [
        "a = {'name': 'Alice', 'city': 'Paris'}"
      ],
      "metadata": {
        "id": "LO9q5bGuivJp"
      },
      "execution_count": 84,
      "outputs": []
    },
    {
      "cell_type": "code",
      "source": [
        "print(\"city\" in a)"
      ],
      "metadata": {
        "colab": {
          "base_uri": "https://localhost:8080/"
        },
        "id": "KFqVxSvnjFZ4",
        "outputId": "3982a2ea-6970-4b5e-cb9b-3ab7b488cb45"
      },
      "execution_count": 85,
      "outputs": [
        {
          "output_type": "stream",
          "name": "stdout",
          "text": [
            "True\n"
          ]
        }
      ]
    },
    {
      "cell_type": "markdown",
      "source": [
        "**26. Write a code to create a list, a tuple, and a dictionary, and print them all ?**"
      ],
      "metadata": {
        "id": "SBIJb2qSjOc6"
      }
    },
    {
      "cell_type": "code",
      "source": [
        "my_list = [1, 2, 3]\n",
        "\n",
        "my_tuple = ('a', 'b', 'c')\n",
        "\n",
        "my_dict = {'name': 'manish', 'age': 25}\n",
        "\n",
        "print(\"List:\", my_list)\n",
        "print(\"Tuple:\", my_tuple)\n",
        "print(\"Dictionary:\", my_dict)"
      ],
      "metadata": {
        "colab": {
          "base_uri": "https://localhost:8080/"
        },
        "id": "Ph2op8LqjLTM",
        "outputId": "c7872583-9c5f-4735-ddda-6212667756b8"
      },
      "execution_count": 87,
      "outputs": [
        {
          "output_type": "stream",
          "name": "stdout",
          "text": [
            "List: [1, 2, 3]\n",
            "Tuple: ('a', 'b', 'c')\n",
            "Dictionary: {'name': 'manish', 'age': 25}\n"
          ]
        }
      ]
    },
    {
      "cell_type": "markdown",
      "source": [
        "**27. Write a code to create a list of 5 random numbers between 1 and 100, sort it in ascending order, and print the result ?**"
      ],
      "metadata": {
        "id": "qtFmDWsZjcUN"
      }
    },
    {
      "cell_type": "code",
      "source": [
        "import random\n",
        "list1 = [random.randint(1,100) for i in range(5) ]\n",
        "list1.sort()\n",
        "\n",
        "print('Sorted List: ', list1)"
      ],
      "metadata": {
        "colab": {
          "base_uri": "https://localhost:8080/"
        },
        "id": "wSgaRXa9jWCV",
        "outputId": "2916d997-48f4-4797-b87b-ed5c141e15ee"
      },
      "execution_count": 89,
      "outputs": [
        {
          "output_type": "stream",
          "name": "stdout",
          "text": [
            "Sorted List:  [22, 35, 42, 67, 68]\n"
          ]
        }
      ]
    },
    {
      "cell_type": "markdown",
      "source": [
        "**28. Write a code to create a list with strings and print the element at the third index ?**"
      ],
      "metadata": {
        "id": "8pdaJA_kkYub"
      }
    },
    {
      "cell_type": "code",
      "source": [
        "a= [\"manish\",\"raju\",\"kushi\",\"priyanka\"]"
      ],
      "metadata": {
        "id": "r8F947Ylj8M9"
      },
      "execution_count": 90,
      "outputs": []
    },
    {
      "cell_type": "code",
      "source": [
        "print(a[3])"
      ],
      "metadata": {
        "colab": {
          "base_uri": "https://localhost:8080/"
        },
        "id": "sU9jmCBfksi0",
        "outputId": "cd5e940c-4077-4485-ce11-ef5886460f92"
      },
      "execution_count": 93,
      "outputs": [
        {
          "output_type": "stream",
          "name": "stdout",
          "text": [
            "priyanka\n"
          ]
        }
      ]
    },
    {
      "cell_type": "markdown",
      "source": [
        "**29. Write a code to combine two dictionaries into one and print the result ?**"
      ],
      "metadata": {
        "id": "ZNsKYq15k0mK"
      }
    },
    {
      "cell_type": "code",
      "source": [
        "dict1 = {'a': 1, 'b': 2}\n",
        "dict2 = {'c': 3, 'd': 4}\n",
        "\n",
        "combined = dict1 | dict2\n",
        "print(combined)"
      ],
      "metadata": {
        "colab": {
          "base_uri": "https://localhost:8080/"
        },
        "id": "MuSpgj6tkvfG",
        "outputId": "6c763bb2-204e-45d7-e5b1-a9d6dd2578c6"
      },
      "execution_count": 94,
      "outputs": [
        {
          "output_type": "stream",
          "name": "stdout",
          "text": [
            "{'a': 1, 'b': 2, 'c': 3, 'd': 4}\n"
          ]
        }
      ]
    },
    {
      "cell_type": "markdown",
      "source": [
        "**30. Write a code to convert a list of strings into a set ?**"
      ],
      "metadata": {
        "id": "hR-QojK4k_3C"
      }
    },
    {
      "cell_type": "code",
      "source": [
        "str1 = ['Ankit', 'Raju', 'Viswanathan', 'Suresh', 'Raju', 'Suresh']    # please explain where am i wrong, i have tried many time and defferent ways.\n",
        "set1 = set(str1)\n",
        "print(set1)"
      ],
      "metadata": {
        "colab": {
          "base_uri": "https://localhost:8080/",
          "height": 176
        },
        "id": "ahrf8BprnTlR",
        "outputId": "c087fc97-3920-4cf8-9980-9add1a813406"
      },
      "execution_count": 114,
      "outputs": [
        {
          "output_type": "error",
          "ename": "TypeError",
          "evalue": "'set' object is not callable",
          "traceback": [
            "\u001b[0;31m---------------------------------------------------------------------------\u001b[0m",
            "\u001b[0;31mTypeError\u001b[0m                                 Traceback (most recent call last)",
            "\u001b[0;32m/tmp/ipython-input-3841474734.py\u001b[0m in \u001b[0;36m<cell line: 0>\u001b[0;34m()\u001b[0m\n\u001b[1;32m      1\u001b[0m \u001b[0mstr1\u001b[0m \u001b[0;34m=\u001b[0m \u001b[0;34m[\u001b[0m\u001b[0;34m'Ankit'\u001b[0m\u001b[0;34m,\u001b[0m \u001b[0;34m'Raju'\u001b[0m\u001b[0;34m,\u001b[0m \u001b[0;34m'Viswanathan'\u001b[0m\u001b[0;34m,\u001b[0m \u001b[0;34m'Suresh'\u001b[0m\u001b[0;34m,\u001b[0m \u001b[0;34m'Raju'\u001b[0m\u001b[0;34m,\u001b[0m \u001b[0;34m'Suresh'\u001b[0m\u001b[0;34m]\u001b[0m\u001b[0;34m\u001b[0m\u001b[0;34m\u001b[0m\u001b[0m\n\u001b[0;32m----> 2\u001b[0;31m \u001b[0mset1\u001b[0m \u001b[0;34m=\u001b[0m \u001b[0mset\u001b[0m\u001b[0;34m(\u001b[0m\u001b[0mstr1\u001b[0m\u001b[0;34m)\u001b[0m\u001b[0;34m\u001b[0m\u001b[0;34m\u001b[0m\u001b[0m\n\u001b[0m\u001b[1;32m      3\u001b[0m \u001b[0mprint\u001b[0m\u001b[0;34m(\u001b[0m\u001b[0mset1\u001b[0m\u001b[0;34m)\u001b[0m\u001b[0;34m\u001b[0m\u001b[0;34m\u001b[0m\u001b[0m\n",
            "\u001b[0;31mTypeError\u001b[0m: 'set' object is not callable"
          ]
        }
      ]
    },
    {
      "cell_type": "code",
      "source": [],
      "metadata": {
        "id": "bz7H79_JnfB2"
      },
      "execution_count": null,
      "outputs": []
    }
  ]
}