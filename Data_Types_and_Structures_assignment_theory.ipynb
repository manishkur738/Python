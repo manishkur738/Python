{
  "nbformat": 4,
  "nbformat_minor": 0,
  "metadata": {
    "colab": {
      "provenance": []
    },
    "kernelspec": {
      "name": "python3",
      "display_name": "Python 3"
    },
    "language_info": {
      "name": "python"
    }
  },
  "cells": [
    {
      "cell_type": "markdown",
      "source": [
        "**1. What are data structures, and why are they important ?**\n",
        "\n",
        "- Data structure is a way of organizing, managing, and storing data so that it can be used efficently in pyhton.\n",
        "\n",
        "**Important**\n",
        "- Choosing the right data structure makes your program faster and more memory-efficient.\n",
        "- they help store and arrange data logically.\n",
        "- many algorithms depend on specific data structures."
      ],
      "metadata": {
        "id": "T4y8fbs0Jmd2"
      }
    },
    {
      "cell_type": "markdown",
      "source": [
        "**2. Explain the difference between mutable and immutable data types with examples ?**\n",
        "\n",
        "Mutable Data Types :\n",
        "- Mutable data types can be changed after they are created. Like add, moidify, remove elements without changing momory location.\n",
        "Examples : List, Dictionary, Set\n",
        "\n",
        "Immutable Data Types :\n",
        "- Immutable objects can not be changed after they are created. Any modification will create new object with seperate memory location.\n",
        "Examples : Integer, Float, String, Tuple, Boolean"
      ],
      "metadata": {
        "id": "fJKcx4qPLSol"
      }
    },
    {
      "cell_type": "markdown",
      "source": [
        "**3. What are the main differences between lists and tuples in Python ?**\n",
        "\n",
        "1. lists:\n",
        "- it is mutable data type.\n",
        "- syntax is [1,2,3].\n",
        "- we can modify, remove, or add to something after it has been created.\n",
        "\n",
        "2. Tuples:\n",
        "- it is immutable data types.\n",
        "- syntax is (1,2,3).\n",
        "- we can not change anything after it has been created."
      ],
      "metadata": {
        "id": "N6gm6v3JL5l0"
      }
    },
    {
      "cell_type": "markdown",
      "source": [
        "**4. Describe how dictionaries store data ?**\n",
        "\n",
        "- Dictionary store data as key : value.\n",
        "- ex = {\"name\":\"manish\", \"age\": 23, \"city\":\"Ghaziabad\"}"
      ],
      "metadata": {
        "id": "aqOp2644NZlz"
      }
    },
    {
      "cell_type": "markdown",
      "source": [
        "**5. Why might you use a set instead of a list in Python ?**\n",
        "\n",
        "- sets automatically removes duplicates.\n",
        "- sets faster than list\n",
        "- sets allow operation like union, intersection and difference."
      ],
      "metadata": {
        "id": "vh9waFx9N-It"
      }
    },
    {
      "cell_type": "markdown",
      "source": [
        "**6. What is a string in Python, and how is it different from a list ?**\n",
        "\n",
        "- string is a sequence of charaters enclosed  in single quotes ( ' ), and double quotes ( \" ).\n",
        "\n",
        "**Different**\n",
        "- string is sequence of characters (\"a\",\"b\",\"c\"), but list is sequence of any type like ( 1,2,\"hi\",3.4).\n",
        "- string is immutable, but list is mutable."
      ],
      "metadata": {
        "id": "QRvGwp5MPbMu"
      }
    },
    {
      "cell_type": "markdown",
      "source": [
        "**7. How do tuples ensure data integrity in Python ?**\n",
        "- Tuples ensure Data integrity by being Imutable. Once they are created they can't be changed, added or removed. This makes them ideal for storing Fixed, constant data and helps to prevent loss of data."
      ],
      "metadata": {
        "id": "PHbJMNmPQzvC"
      }
    },
    {
      "cell_type": "markdown",
      "source": [
        "**8. What is a hash table, and how does it relate to dictionaries in Python ?**\n",
        "- Hash Table is a data structure that stores key-value pairs using a hash function to compute an index for storing values. In python, dictionaries are built on hash tables.\n",
        "- they use the hash of the Key to quickly locate and access the associated values. It enables Fast Lookups insertins and deletioons."
      ],
      "metadata": {
        "id": "FNchozMlRIjq"
      }
    },
    {
      "cell_type": "markdown",
      "source": [
        "**9. Can lists contain different data types in Python ?**\n",
        "\n",
        "- yes"
      ],
      "metadata": {
        "id": "I6n6r3ylR83U"
      }
    },
    {
      "cell_type": "markdown",
      "source": [
        "**10. Explain why strings are immutable in Python ?**\n",
        "\n",
        "- Strings are immutable is Python to ensure data safety and security. Once they are created they can't be changed. Any modification creates a fresh new string. This design makes strings 'hashable', making them useful as dictionary keys.\n"
      ],
      "metadata": {
        "id": "lN6xqUOdSGPX"
      }
    },
    {
      "cell_type": "markdown",
      "source": [
        "**11. What advantages do dictionaries offer over lists for certain tasks ?**\n",
        "- Faster Lookups: accessing values with help of keys is much easier and faster O(1) where as in list it's O(n).\n",
        "- Key based access: Data can be retrieved using keys instead of numeric indexing.\n",
        "- Unordered data mapping: ideal for storing structured data like configuration. records or mapping."
      ],
      "metadata": {
        "id": "XcTODNO4StZE"
      }
    },
    {
      "cell_type": "markdown",
      "source": [
        "**12. Describe a scenario where using a tuple would be preferable over a list ?**\n",
        "- after created we can not change data in Tuple, so noone change it in future.\n",
        "- use a tuple intead of a list when the data is fixed, constant, and should not change.  "
      ],
      "metadata": {
        "id": "BpoueFcCTQG5"
      }
    },
    {
      "cell_type": "markdown",
      "source": [
        "**13. How do sets handle duplicate values in Python ?**\n",
        "\n",
        "- Sets automatically remove all duplicate values, only once instance of each unique value is stored."
      ],
      "metadata": {
        "id": "7f9-CU0PUaKz"
      }
    },
    {
      "cell_type": "markdown",
      "source": [
        "**14. How does the “in” keyword work differently for lists and dictionaries ?**\n",
        "\n",
        "- In list it checks if a value exists.\n",
        "- In dictionary it checks if a key exists."
      ],
      "metadata": {
        "id": "apksm1ngUoa1"
      }
    },
    {
      "cell_type": "markdown",
      "source": [
        "**15. Can you modify the elements of a tuple? Explain why or why not ?**\n",
        "- No, we cannot modify elements of a tuple because tuples are immutable in pythhon. Once tuples are created elements can't be added, changed or removed.\n",
        "- data integrity - Tuples protect data from accidental modification.\n",
        "- Tuples are stored more efficiently in memory and faster to access than lists.\n"
      ],
      "metadata": {
        "id": "Fy0hoRhBVDDg"
      }
    },
    {
      "cell_type": "markdown",
      "source": [
        "**16. What is a nested dictionary, and give an example of its use case ?**\n",
        "\n",
        "- The outer dictionary holds keys, and the values of those keys can be dictionaries themselves.\n",
        "- This allows you to store hierarchical / structured data.\n",
        "- Ex > students = {\n",
        "\"101\": {\"name\": \"manish\", \"grade\": \"A\"},\n",
        "\"102\": {\"name\": \"kushi\", \"grade\": \"B\"}\n",
        "}"
      ],
      "metadata": {
        "id": "CrgoYrtpVm2c"
      }
    },
    {
      "cell_type": "markdown",
      "source": [
        "**17. Describe the time complexity of accessing elements in a dictionary ?**\n",
        "\n",
        "-  O(1) means \"constant time.\" This means that the time it takes to find an element doesn't depend on the size of the dictionary. Whether the dictionary has 10 items or 10 million items, the time required to retrieve a value is, on average, the same"
      ],
      "metadata": {
        "id": "wfIf5uMaWtwM"
      }
    },
    {
      "cell_type": "markdown",
      "source": [
        "**18. In what situations are lists preferred over dictionaries ?**\n",
        "\n",
        "- when we need to maintain the sequence of items.\n",
        "- We need indexed access to elements by position.\n",
        "- When are working with simple collections of data not key-value pairs.\n",
        "- Duplicates are allowed."
      ],
      "metadata": {
        "id": "orzG367VXV3w"
      }
    },
    {
      "cell_type": "markdown",
      "source": [
        "**19. Why are dictionaries considered unordered, and how does that affect data retrieval ?**\n",
        "\n",
        "- Dictionaries are considered unordered because they are based on hash tables which store key-value pairs. They don't preserve insertion order and are not sorted."
      ],
      "metadata": {
        "id": "88KXn-yxXrBp"
      }
    },
    {
      "cell_type": "markdown",
      "source": [
        "**20. Explain the difference between a list and a dictionary in terms of data retrieval ?**\n",
        "1. list:\n",
        "- list can retrieve data using by numeric index.\n",
        "- list is ordered data, sequence.\n",
        "\n",
        "2. Dictionary:\n",
        "- dic can retrieve data ising by key.\n",
        "- dic is mapping, labeled data.  \n"
      ],
      "metadata": {
        "id": "FytOnIP_YC0X"
      }
    }
  ]
}