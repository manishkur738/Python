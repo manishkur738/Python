{
  "nbformat": 4,
  "nbformat_minor": 0,
  "metadata": {
    "colab": {
      "provenance": []
    },
    "kernelspec": {
      "name": "python3",
      "display_name": "Python 3"
    },
    "language_info": {
      "name": "python"
    }
  },
  "cells": [
    {
      "cell_type": "code",
      "execution_count": null,
      "metadata": {
        "id": "BJNZTpcI79Fz"
      },
      "outputs": [],
      "source": []
    },
    {
      "cell_type": "markdown",
      "source": [
        "**What is Python, and why is it popular ?**\n",
        "\n",
        "- Python is a high-level, interpreted, general-purpose programming language and it is easy to learn, there is so many liabraries available.  "
      ],
      "metadata": {
        "id": "PpiXm5c17-vq"
      }
    },
    {
      "cell_type": "code",
      "source": [],
      "metadata": {
        "id": "IVZGcNAl8YB-"
      },
      "execution_count": null,
      "outputs": []
    },
    {
      "cell_type": "markdown",
      "source": [
        "**What is an interpreter in Python?**\n",
        "\n",
        "- Interpreter is a computer program that directly executes instruction in python programming language."
      ],
      "metadata": {
        "id": "C1MUjdQc8bOG"
      }
    },
    {
      "cell_type": "code",
      "source": [],
      "metadata": {
        "id": "NaLXwnrz8uHB"
      },
      "execution_count": null,
      "outputs": []
    },
    {
      "cell_type": "markdown",
      "source": [
        "**What are pre-defined keywords in Python?**\n",
        "\n",
        "- Pre-defined keywords is called keywords or reserved keywords. keyword are special word that have fixed meaning and purpose in python language, and it can not be used for programmers for the other purporse like ( varibale name, function names)\n",
        "\n"
      ],
      "metadata": {
        "id": "3IvFrVDH8wcR"
      }
    },
    {
      "cell_type": "code",
      "source": [],
      "metadata": {
        "id": "ot2PStQk9kLB"
      },
      "execution_count": null,
      "outputs": []
    },
    {
      "cell_type": "markdown",
      "source": [
        "**Can keywords be used as variable names?**\n",
        "\n",
        "- No"
      ],
      "metadata": {
        "id": "IgCWdSRe9n5g"
      }
    },
    {
      "cell_type": "code",
      "source": [],
      "metadata": {
        "id": "YpTGD7Uf9vOh"
      },
      "execution_count": null,
      "outputs": []
    },
    {
      "cell_type": "markdown",
      "source": [
        "**What is mutability in Python?**\n",
        "\n",
        "- any object can be change after it has been created its called mutability.\n"
      ],
      "metadata": {
        "id": "GjfQXfu19x7K"
      }
    },
    {
      "cell_type": "code",
      "source": [],
      "metadata": {
        "id": "kxMYB3eG-COF"
      },
      "execution_count": null,
      "outputs": []
    },
    {
      "cell_type": "markdown",
      "source": [
        "**Why are lists mutable, but tuples are immutable?**\n",
        "\n",
        "- lists can be change after it has been created so lists are mutable, we can use append() after the creat object.\n",
        "- Tuples are imutable cause we can not any change after created it."
      ],
      "metadata": {
        "id": "Evtue6jg-ELV"
      }
    },
    {
      "cell_type": "code",
      "source": [],
      "metadata": {
        "id": "RivFdchf-3dU"
      },
      "execution_count": null,
      "outputs": []
    },
    {
      "cell_type": "markdown",
      "source": [
        "**What is the difference between “==” and “is” operators in Python?**\n",
        "\n",
        "- \"==\" and \"is\" both are use for comparison in python."
      ],
      "metadata": {
        "id": "XLAc7SKU-6Qs"
      }
    },
    {
      "cell_type": "code",
      "source": [],
      "metadata": {
        "id": "J-qpZn_d_V-4"
      },
      "execution_count": null,
      "outputs": []
    },
    {
      "cell_type": "markdown",
      "source": [
        "**What are logical operators in Python?**\n",
        "\n",
        "- \"and\" , \"or\", \"not\" these are logical operators in python."
      ],
      "metadata": {
        "id": "1oj9V5Np_8Qu"
      }
    },
    {
      "cell_type": "code",
      "source": [],
      "metadata": {
        "id": "6He_eLv4AfJa"
      },
      "execution_count": null,
      "outputs": []
    },
    {
      "cell_type": "markdown",
      "source": [
        "**What is type casting in Python?**\n",
        "\n",
        "- Type casting is the process of conerting a variable or value from one data t oanother data."
      ],
      "metadata": {
        "id": "CxIq9iJEAg5L"
      }
    },
    {
      "cell_type": "code",
      "source": [],
      "metadata": {
        "id": "F98Z2R6MA-LY"
      },
      "execution_count": null,
      "outputs": []
    },
    {
      "cell_type": "markdown",
      "source": [
        "**What is the difference between implicit and explicit type casting?**\n",
        "\n",
        "- The differnce between implicit and explicit in python lies in who performs the conversion and how much control you ahve over the process.\n"
      ],
      "metadata": {
        "id": "WnytIqmxA-rn"
      }
    },
    {
      "cell_type": "code",
      "source": [],
      "metadata": {
        "id": "oG0nUi0JBQCJ"
      },
      "execution_count": null,
      "outputs": []
    },
    {
      "cell_type": "markdown",
      "source": [
        "**What is the purpose of conditional statements in Python?**\n",
        "\n",
        "- The purpose of conditional statements in python is to allow your program to make decisions and execute different blocks of code based on whether certain conditions are met."
      ],
      "metadata": {
        "id": "07hL1ceJBR1i"
      }
    },
    {
      "cell_type": "markdown",
      "source": [
        "**How does the elif statement work**\n",
        "\n",
        "-The elif statement in Python  is used in conjunction with an if statement to create a chain of conditional checks. Its purpose is to test additional conditions when the preceding if condition  evaluated to False."
      ],
      "metadata": {
        "id": "JE6oqZFPBnaU"
      }
    },
    {
      "cell_type": "code",
      "source": [],
      "metadata": {
        "id": "AZWTaXPvBjVE"
      },
      "execution_count": null,
      "outputs": []
    },
    {
      "cell_type": "markdown",
      "source": [
        "**What is the difference between for and while loops?**\n",
        "\n",
        "-The \"for\" and \"while\" loops are both fundamental control flow statements in Python.\n",
        "- for loops is Primarily used for iterating over a sequence, it executes a block of code once for each item in the sequence.\n",
        "- while loop is primarily used for repeatedly executing a block of code as long as certain condition reamains.\n"
      ],
      "metadata": {
        "id": "H2utzXmaCOwS"
      }
    },
    {
      "cell_type": "code",
      "source": [],
      "metadata": {
        "id": "oDwAY-CfDKrr"
      },
      "execution_count": null,
      "outputs": []
    },
    {
      "cell_type": "markdown",
      "source": [
        "**Write a Python program to print \"Hello, World!?**"
      ],
      "metadata": {
        "id": "y-kycuNcDPx8"
      }
    },
    {
      "cell_type": "code",
      "source": [
        "print(\"Hello, World!\")"
      ],
      "metadata": {
        "colab": {
          "base_uri": "https://localhost:8080/"
        },
        "id": "0tVERnv1DS7T",
        "outputId": "6c17274e-eef5-437f-942c-0ef435c3f100"
      },
      "execution_count": 7,
      "outputs": [
        {
          "output_type": "stream",
          "name": "stdout",
          "text": [
            "Hello, World!\n"
          ]
        }
      ]
    },
    {
      "cell_type": "code",
      "source": [],
      "metadata": {
        "id": "70tRZPmFDZuu"
      },
      "execution_count": null,
      "outputs": []
    },
    {
      "cell_type": "markdown",
      "source": [
        "**Write a Python program that displays your name and age?**"
      ],
      "metadata": {
        "id": "41S9LoiYDvYJ"
      }
    },
    {
      "cell_type": "code",
      "source": [
        "name = \"manish\"\n",
        "age = 28\n",
        "print(f\"my nmae is {name} and my age is {age}\")"
      ],
      "metadata": {
        "colab": {
          "base_uri": "https://localhost:8080/"
        },
        "id": "Om_JrSz7DzHI",
        "outputId": "c76e681a-247d-41c2-af8f-6130647e6b3e"
      },
      "execution_count": 11,
      "outputs": [
        {
          "output_type": "stream",
          "name": "stdout",
          "text": [
            "my nmae is manish and my age is 28\n"
          ]
        }
      ]
    },
    {
      "cell_type": "markdown",
      "source": [
        "** Write code to print all the pre-defined keywords in Python using the keyword library?**"
      ],
      "metadata": {
        "id": "ipz5o8APFF2l"
      }
    },
    {
      "cell_type": "code",
      "source": [
        "import keyword\n",
        "print(keyword.kwlist)"
      ],
      "metadata": {
        "colab": {
          "base_uri": "https://localhost:8080/"
        },
        "id": "icwOjBPAFILM",
        "outputId": "54db7907-aadc-4f13-d2c5-3e9aa124409f"
      },
      "execution_count": 12,
      "outputs": [
        {
          "output_type": "stream",
          "name": "stdout",
          "text": [
            "['False', 'None', 'True', 'and', 'as', 'assert', 'async', 'await', 'break', 'class', 'continue', 'def', 'del', 'elif', 'else', 'except', 'finally', 'for', 'from', 'global', 'if', 'import', 'in', 'is', 'lambda', 'nonlocal', 'not', 'or', 'pass', 'raise', 'return', 'try', 'while', 'with', 'yield']\n"
          ]
        }
      ]
    },
    {
      "cell_type": "markdown",
      "source": [
        "**Write a program that checks if a given word is a Python keyword?**"
      ],
      "metadata": {
        "id": "T-LCaNweFvbz"
      }
    },
    {
      "cell_type": "code",
      "source": [
        "a = 100\n",
        "if a >= 0:\n",
        "  print(\"the number is grather than 0 \")"
      ],
      "metadata": {
        "colab": {
          "base_uri": "https://localhost:8080/"
        },
        "id": "PJrWw0e6FxVK",
        "outputId": "eb3a23dc-2a9f-491e-c7c6-b56587db19d0"
      },
      "execution_count": 15,
      "outputs": [
        {
          "output_type": "stream",
          "name": "stdout",
          "text": [
            "the number is grather than 0 \n"
          ]
        }
      ]
    },
    {
      "cell_type": "markdown",
      "source": [
        "**Create a list and tuple in Python, and demonstrate how attempting to change an element works differently for each.**"
      ],
      "metadata": {
        "id": "vJ2pnZ7sHZqC"
      }
    },
    {
      "cell_type": "code",
      "source": [
        "x = (1,2,3)\n",
        "y = (4,5,6)\n",
        "z =x+y\n",
        "print(z)"
      ],
      "metadata": {
        "colab": {
          "base_uri": "https://localhost:8080/"
        },
        "id": "L7eEoJ9THcy5",
        "outputId": "d8af11a6-2436-4989-97a4-42093b7e3c3d"
      },
      "execution_count": 26,
      "outputs": [
        {
          "output_type": "stream",
          "name": "stdout",
          "text": [
            "(1, 2, 3, 4, 5, 6)\n"
          ]
        }
      ]
    },
    {
      "cell_type": "code",
      "source": [
        "type(z)"
      ],
      "metadata": {
        "colab": {
          "base_uri": "https://localhost:8080/"
        },
        "id": "ZXRbEJhYHmKs",
        "outputId": "52e69be1-e3cb-4dfe-f582-131fcb36cf29"
      },
      "execution_count": 27,
      "outputs": [
        {
          "output_type": "execute_result",
          "data": {
            "text/plain": [
              "tuple"
            ]
          },
          "metadata": {},
          "execution_count": 27
        }
      ]
    },
    {
      "cell_type": "code",
      "source": [
        "z.append(7)"
      ],
      "metadata": {
        "colab": {
          "base_uri": "https://localhost:8080/",
          "height": 141
        },
        "id": "q6XtP6xIMjeg",
        "outputId": "e74e4954-000b-445d-ac86-93d253e75d75"
      },
      "execution_count": 31,
      "outputs": [
        {
          "output_type": "error",
          "ename": "AttributeError",
          "evalue": "'tuple' object has no attribute 'append'",
          "traceback": [
            "\u001b[0;31m---------------------------------------------------------------------------\u001b[0m",
            "\u001b[0;31mAttributeError\u001b[0m                            Traceback (most recent call last)",
            "\u001b[0;32m/tmp/ipython-input-31-4026899824.py\u001b[0m in \u001b[0;36m<cell line: 0>\u001b[0;34m()\u001b[0m\n\u001b[0;32m----> 1\u001b[0;31m \u001b[0mz\u001b[0m\u001b[0;34m.\u001b[0m\u001b[0mappend\u001b[0m\u001b[0;34m(\u001b[0m\u001b[0;36m7\u001b[0m\u001b[0;34m)\u001b[0m\u001b[0;34m\u001b[0m\u001b[0;34m\u001b[0m\u001b[0m\n\u001b[0m",
            "\u001b[0;31mAttributeError\u001b[0m: 'tuple' object has no attribute 'append'"
          ]
        }
      ]
    },
    {
      "cell_type": "code",
      "source": [
        "x = (1,2,3)"
      ],
      "metadata": {
        "id": "glODDIiSMjj6"
      },
      "execution_count": 32,
      "outputs": []
    },
    {
      "cell_type": "code",
      "source": [
        "new_list = list(x)\n",
        "new_list"
      ],
      "metadata": {
        "colab": {
          "base_uri": "https://localhost:8080/"
        },
        "id": "_3oVnNDZLojW",
        "outputId": "ae7ccb5e-d184-44b0-be44-bf2f782df140"
      },
      "execution_count": 33,
      "outputs": [
        {
          "output_type": "execute_result",
          "data": {
            "text/plain": [
              "[1, 2, 3]"
            ]
          },
          "metadata": {},
          "execution_count": 33
        }
      ]
    },
    {
      "cell_type": "code",
      "source": [
        "new_list.append(4)"
      ],
      "metadata": {
        "id": "3uLrZMV_LvsB"
      },
      "execution_count": 34,
      "outputs": []
    },
    {
      "cell_type": "code",
      "source": [
        "new_list"
      ],
      "metadata": {
        "colab": {
          "base_uri": "https://localhost:8080/"
        },
        "id": "FH-sTbH3Ly5o",
        "outputId": "60b38898-045f-4d15-d355-82fb033280bd"
      },
      "execution_count": 35,
      "outputs": [
        {
          "output_type": "execute_result",
          "data": {
            "text/plain": [
              "[1, 2, 3, 4]"
            ]
          },
          "metadata": {},
          "execution_count": 35
        }
      ]
    },
    {
      "cell_type": "markdown",
      "source": [
        "**Write a function to demonstrate the behavior of mutable and immutable argument.**"
      ],
      "metadata": {
        "id": "_qxxewPoNxOs"
      }
    },
    {
      "cell_type": "code",
      "source": [
        "# mutable\n",
        "x = (1,2,3)\n",
        "y = list(x)\n",
        "y.append(5)"
      ],
      "metadata": {
        "id": "5QLTZChaNqFY"
      },
      "execution_count": 36,
      "outputs": []
    },
    {
      "cell_type": "code",
      "source": [
        "y"
      ],
      "metadata": {
        "colab": {
          "base_uri": "https://localhost:8080/"
        },
        "id": "QG6szImIOG2V",
        "outputId": "bf672f96-2932-4add-f5d7-967e281b528f"
      },
      "execution_count": 37,
      "outputs": [
        {
          "output_type": "execute_result",
          "data": {
            "text/plain": [
              "[1, 2, 3, 5]"
            ]
          },
          "metadata": {},
          "execution_count": 37
        }
      ]
    },
    {
      "cell_type": "code",
      "source": [
        "# immutable\n",
        "x = (4,5,6)"
      ],
      "metadata": {
        "id": "6y8FOT0GOHzV"
      },
      "execution_count": 38,
      "outputs": []
    },
    {
      "cell_type": "code",
      "source": [
        "x.append(4)"
      ],
      "metadata": {
        "colab": {
          "base_uri": "https://localhost:8080/",
          "height": 141
        },
        "id": "SQCD-S3XOQxG",
        "outputId": "fdc78923-d00f-46f0-aa40-07a9a7cb122d"
      },
      "execution_count": 39,
      "outputs": [
        {
          "output_type": "error",
          "ename": "AttributeError",
          "evalue": "'tuple' object has no attribute 'append'",
          "traceback": [
            "\u001b[0;31m---------------------------------------------------------------------------\u001b[0m",
            "\u001b[0;31mAttributeError\u001b[0m                            Traceback (most recent call last)",
            "\u001b[0;32m/tmp/ipython-input-39-2787493444.py\u001b[0m in \u001b[0;36m<cell line: 0>\u001b[0;34m()\u001b[0m\n\u001b[0;32m----> 1\u001b[0;31m \u001b[0mx\u001b[0m\u001b[0;34m.\u001b[0m\u001b[0mappend\u001b[0m\u001b[0;34m(\u001b[0m\u001b[0;36m4\u001b[0m\u001b[0;34m)\u001b[0m\u001b[0;34m\u001b[0m\u001b[0;34m\u001b[0m\u001b[0m\n\u001b[0m",
            "\u001b[0;31mAttributeError\u001b[0m: 'tuple' object has no attribute 'append'"
          ]
        }
      ]
    },
    {
      "cell_type": "markdown",
      "source": [
        "**Write a program that performs basic arithmetic operations on two user-input numbers.**"
      ],
      "metadata": {
        "id": "bTD0tDvTOWHJ"
      }
    },
    {
      "cell_type": "code",
      "source": [
        "a = 20\n",
        "b = 10\n",
        "sum = a+b\n",
        "sub = a-b\n",
        "mul = a*b\n",
        "div = a/b\n",
        "print(sum)\n",
        "print(sub)\n",
        "print(mul)\n",
        "print(div)"
      ],
      "metadata": {
        "colab": {
          "base_uri": "https://localhost:8080/"
        },
        "id": "oK0zdvIQOYwH",
        "outputId": "c4822ec6-b305-46e6-e241-f51758f4810e"
      },
      "execution_count": 41,
      "outputs": [
        {
          "output_type": "stream",
          "name": "stdout",
          "text": [
            "30\n",
            "10\n",
            "200\n",
            "2.0\n"
          ]
        }
      ]
    },
    {
      "cell_type": "markdown",
      "source": [
        "**Write a program to demonstrate the use of logical operators.**"
      ],
      "metadata": {
        "id": "ER2PL0EFO3Ul"
      }
    },
    {
      "cell_type": "code",
      "source": [
        "a = 20\n",
        "b = 10\n",
        "a and b"
      ],
      "metadata": {
        "colab": {
          "base_uri": "https://localhost:8080/"
        },
        "id": "VaMmBp7oO5UD",
        "outputId": "0129a9b0-9984-44f2-eb50-3bc24b5e5614"
      },
      "execution_count": 45,
      "outputs": [
        {
          "output_type": "execute_result",
          "data": {
            "text/plain": [
              "10"
            ]
          },
          "metadata": {},
          "execution_count": 45
        }
      ]
    },
    {
      "cell_type": "code",
      "source": [
        "a or b"
      ],
      "metadata": {
        "colab": {
          "base_uri": "https://localhost:8080/"
        },
        "id": "lZOKTTRRPHrA",
        "outputId": "35ebfcce-fc31-4fd5-9d20-f0fe5f910e9c"
      },
      "execution_count": 46,
      "outputs": [
        {
          "output_type": "execute_result",
          "data": {
            "text/plain": [
              "20"
            ]
          },
          "metadata": {},
          "execution_count": 46
        }
      ]
    },
    {
      "cell_type": "markdown",
      "source": [
        "**Write a Python program to convert user input from string to integer, float, and boolean types.**"
      ],
      "metadata": {
        "id": "HMjYpcRjPXE0"
      }
    },
    {
      "cell_type": "code",
      "source": [
        "name = input(\"enter your name\")\n",
        "age = int(input(\"enter your age\"))\n",
        "hight = float(input(\"enter your hight\"))\n",
        "if hight > 2:\n",
        "  print(\"pass\")"
      ],
      "metadata": {
        "colab": {
          "base_uri": "https://localhost:8080/"
        },
        "id": "h_PzKvvXPaGY",
        "outputId": "b28c6fca-9b22-43dd-f2c0-2ca4b8e09dfd"
      },
      "execution_count": 48,
      "outputs": [
        {
          "output_type": "stream",
          "name": "stdout",
          "text": [
            "enter your namemanish\n",
            "enter your age28\n",
            "enter your hight5.8\n",
            "pass\n"
          ]
        }
      ]
    },
    {
      "cell_type": "markdown",
      "source": [
        "**Write a Python program to find the sum of all even numbers between 1 and 50.**"
      ],
      "metadata": {
        "id": "pnES8chzQTAq"
      }
    },
    {
      "cell_type": "code",
      "source": [
        "list(range(2,50,2))"
      ],
      "metadata": {
        "colab": {
          "base_uri": "https://localhost:8080/"
        },
        "id": "B5-_MNJ5QUdI",
        "outputId": "cd183a12-cd47-40ee-8628-b856bda2017b"
      },
      "execution_count": 56,
      "outputs": [
        {
          "output_type": "execute_result",
          "data": {
            "text/plain": [
              "[2,\n",
              " 4,\n",
              " 6,\n",
              " 8,\n",
              " 10,\n",
              " 12,\n",
              " 14,\n",
              " 16,\n",
              " 18,\n",
              " 20,\n",
              " 22,\n",
              " 24,\n",
              " 26,\n",
              " 28,\n",
              " 30,\n",
              " 32,\n",
              " 34,\n",
              " 36,\n",
              " 38,\n",
              " 40,\n",
              " 42,\n",
              " 44,\n",
              " 46,\n",
              " 48]"
            ]
          },
          "metadata": {},
          "execution_count": 56
        }
      ]
    },
    {
      "cell_type": "markdown",
      "source": [
        "**Write a program that checks if a number is positive, negative, or zero.**"
      ],
      "metadata": {
        "id": "4yst1IpYR-ZB"
      }
    },
    {
      "cell_type": "code",
      "source": [
        "num=-1\n",
        "\n",
        "if num >=0:\n",
        "  if num == 0:\n",
        "    print(\"Zero\")\n",
        "  else:\n",
        "    print(\"Positive number\")\n",
        "else:\n",
        "  print(\"Negative Number\")"
      ],
      "metadata": {
        "colab": {
          "base_uri": "https://localhost:8080/"
        },
        "id": "TqK8aB4sREmJ",
        "outputId": "4018e5af-86d2-4a03-9336-f9408812f00c"
      },
      "execution_count": 53,
      "outputs": [
        {
          "output_type": "stream",
          "name": "stdout",
          "text": [
            "Negative Number\n"
          ]
        }
      ]
    },
    {
      "cell_type": "markdown",
      "source": [
        "** Write a for loop to print numbers from 1 to 10.**"
      ],
      "metadata": {
        "id": "MOhAs77gSlaf"
      }
    },
    {
      "cell_type": "code",
      "source": [
        "x = [1,2,3,4,5,6,7,8,9,10]"
      ],
      "metadata": {
        "id": "uGTUtvp0R9UR"
      },
      "execution_count": 57,
      "outputs": []
    },
    {
      "cell_type": "code",
      "source": [
        "for i in x:\n",
        "  print(i)"
      ],
      "metadata": {
        "colab": {
          "base_uri": "https://localhost:8080/"
        },
        "id": "ZwSz8Gm0SvVv",
        "outputId": "6ac76dc3-34d0-40a7-b245-9070e2987bdd"
      },
      "execution_count": 59,
      "outputs": [
        {
          "output_type": "stream",
          "name": "stdout",
          "text": [
            "1\n",
            "2\n",
            "3\n",
            "4\n",
            "5\n",
            "6\n",
            "7\n",
            "8\n",
            "9\n",
            "10\n"
          ]
        }
      ]
    },
    {
      "cell_type": "markdown",
      "source": [
        "**Write a program to reverse a string using a while loop.**"
      ],
      "metadata": {
        "id": "c9fQ3XHJTJyI"
      }
    },
    {
      "cell_type": "code",
      "source": [
        "i = 5\n",
        "while i>=1:\n",
        "  print(i)\n",
        "  i-=1"
      ],
      "metadata": {
        "colab": {
          "base_uri": "https://localhost:8080/"
        },
        "id": "tfhHH-TmTa31",
        "outputId": "e54c779a-e58f-41ff-970d-897d61a0dc8b"
      },
      "execution_count": 61,
      "outputs": [
        {
          "output_type": "stream",
          "name": "stdout",
          "text": [
            "5\n",
            "4\n",
            "3\n",
            "2\n",
            "1\n"
          ]
        }
      ]
    },
    {
      "cell_type": "code",
      "source": [],
      "metadata": {
        "id": "DxEIIYbnTiBW"
      },
      "execution_count": null,
      "outputs": []
    }
  ]
}